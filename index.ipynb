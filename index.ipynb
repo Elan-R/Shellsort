{
 "cells": [
  {
   "cell_type": "markdown",
   "metadata": {},
   "source": [
    "# Kotlin for Jupyter Notebooks"
   ]
  },
  {
   "cell_type": "markdown",
   "metadata": {},
   "source": [
    "[![Binder](https://mybinder.org/badge_logo.svg)](https://mybinder.org/v2/gh/cheptsov/kotlin-jupyter-demo/master?filepath=index.ipynb)"
   ]
  },
  {
   "attachments": {},
   "cell_type": "markdown",
   "metadata": {},
   "source": [
    "Gap sequences:"
   ]
  },
  {
   "cell_type": "code",
   "execution_count": null,
   "metadata": {},
   "outputs": [],
   "source": [
    "import kotlin.random.Random\n",
    "\n",
    "class GapGenerator(private val n: Int) {\n",
    "\n",
    "    private var k: Int = 0\n",
    "\n",
    "    fun hasNext(): Boolean {\n",
    "        k--\n",
    "        return next() != 1\n",
    "    }\n",
    "\n",
    "    fun next(): Int {\n",
    "        k++\n",
    "        return (n / Math.pow(2.0, k.toDouble())).toInt()\n",
    "    }\n",
    "}"
   ]
  },
  {
   "attachments": {},
   "cell_type": "markdown",
   "metadata": {},
   "source": [
    "Shellsort:"
   ]
  },
  {
   "cell_type": "code",
   "execution_count": null,
   "metadata": {},
   "outputs": [],
   "source": [
    "fun hSort(a: Array<Double>, gap: Int) {\n",
    "    for (i in gap until a.size) {\n",
    "        val temp = a[i]\n",
    "        var j = i\n",
    "        while (j >= gap && temp < a[j - gap]) {\n",
    "            a[j] = a[j - gap]\n",
    "            j -= gap\n",
    "        }\n",
    "        a[j] = temp\n",
    "    }\n",
    "}\n",
    "\n",
    "fun sort(a: Array<Double>) {\n",
    "    val gaps = GapGenerator(a.size)\n",
    "    while (gaps.hasNext()) {\n",
    "        hSort(a, gaps.next())\n",
    "    }\n",
    "}"
   ]
  },
  {
   "attachments": {},
   "cell_type": "markdown",
   "metadata": {},
   "source": [
    "Test:"
   ]
  },
  {
   "cell_type": "code",
   "execution_count": null,
   "metadata": {},
   "outputs": [],
   "source": [
    "fun printArray(a: Array<Double>) {\n",
    "    for (n in a) {\n",
    "        print((n * 1000).toInt().toString() + \", \")\n",
    "    }\n",
    "}\n",
    "\n",
    "fun main() {\n",
    "    val n = 1000\n",
    "\n",
    "    val a = Array(n) { Random.nextDouble() }\n",
    "    printArray(a)\n",
    "    sort(a)\n",
    "    println()\n",
    "    printArray(a)\n",
    "}"
   ]
  }
 ],
 "metadata": {
  "kernelspec": {
   "display_name": "Kotlin",
   "language": "kotlin",
   "name": "kotlin"
  },
  "language_info": {
   "codemirror_mode": "text/x-kotlin",
   "file_extension": "kt",
   "name": "kotlin"
  }
 },
 "nbformat": 4,
 "nbformat_minor": 2
}
